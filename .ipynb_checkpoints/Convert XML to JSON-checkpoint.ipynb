{
 "cells": [
  {
   "cell_type": "code",
   "execution_count": 137,
   "metadata": {
    "collapsed": false
   },
   "outputs": [],
   "source": [
    "import json\n",
    "from xml.dom import minidom\n",
    "from pprint import pprint\n",
    "from collections import OrderedDict\n",
    "import codecs\n",
    "\n",
    "xmldoc = minidom.parse('XML_Files/test.xml')\n",
    "itemlist = xmldoc.getElementsByTagName('unit')\n",
    "\n",
    "d = {}\n",
    "for item in reversed(itemlist):\n",
    "    unitId = item.attributes['id'].value\n",
    "    us = unitId.split('.')\n",
    "    sourceVal = item.getElementsByTagName('source').item(0).firstChild.nodeValue\n",
    "        \n",
    "    if(len(us) > 1):\n",
    "        d[us[0]] = d.get(book_id, {})\n",
    "        d[us[0]][us[1]] = d[us[0]].get(us[1], {})\n",
    "    if(len(us) == 2):\n",
    "        d[us[0]][us[1]] = sourceVal\n",
    "    if(len(us) > 2):\n",
    "        d[us[0]][us[1]][us[2]] = d[us[0]][us[1]].get(us[2], {})\n",
    "    if(len(us) == 3):\n",
    "        d[us[0]][us[1]][us[2]] = sourceVal\n",
    "    if(len(us) > 3):    \n",
    "        d[us[0]][us[1]][us[2]][us[3]] = d[us[0]][us[1]][us[2]].get(us[3], {})\n",
    "    if(len(us) == 4):\n",
    "        d[us[0]][us[1]][us[2]][us[3]] = sourceVal\n",
    "    if(len(us) > 5):\n",
    "        d[us[0]][us[1]][us[2]][us[3]][us[4]] = d[us[0]][us[1]][us[2]][us[3]].get(us[4], {})\n",
    "    if(len(us) == 5):\n",
    "        d[us[0]][us[1]][us[2]][us[3]][us[4]] = sourceVal\n",
    "\n",
    "# with codecs.open('homer.txt', 'w', encoding=\"utf-8\") as f:\n",
    "        \n",
    "# save to file:\n",
    "with open('homer.txt', 'w') as f:\n",
    "    json.dump(od, f, indent=2, sort_keys=True)\n"
   ]
  }
 ],
 "metadata": {
  "anaconda-cloud": {},
  "kernelspec": {
   "display_name": "Python [conda root]",
   "language": "python",
   "name": "conda-root-py"
  },
  "language_info": {
   "codemirror_mode": {
    "name": "ipython",
    "version": 2
   },
   "file_extension": ".py",
   "mimetype": "text/x-python",
   "name": "python",
   "nbconvert_exporter": "python",
   "pygments_lexer": "ipython2",
   "version": "2.7.12"
  }
 },
 "nbformat": 4,
 "nbformat_minor": 1
}
