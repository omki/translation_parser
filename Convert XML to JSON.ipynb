{
 "cells": [
  {
   "cell_type": "markdown",
   "metadata": {},
   "source": [
    "<H1 style=\"color:#961296; text-align:center;\">Multilingual translation tool for SimpleSite</H1>\n",
    "<div style=\"color:#962412;\">\n",
    "<H3>Purpose</H3>\n",
    "The aim of this tool is to facilitate continuous updates to the language files for SimpleSite's website creation platform.\n",
    "\n",
    "<H3>Challange</H3>\n",
    "Currenly, update files from language supporters containing new keys or modyfied values are in XML format and target language files are in JSON format. That makes not possible to use merge tools to apply language changes and the procedure has to be handled manually.\n",
    "\n",
    "<H3>Proposed solution</H3> \n",
    "<H5>Number 1  ~> XML to JSON conversion</H5>\n",
    "One way is to convert provided XML file to exact corresponding JSON format, hence allowing to compare new  and old values in a merge tool of one's choice.\n",
    "<img src=\"http://i.imgur.com/vpv0KFZ.png\">\n",
    "<H5>Number 2 ~> Automated merge</H5>\n",
    "The ideal way would be attempt an automated merge of the chages into the language files\n",
    "\n",
    "</div>"
   ]
  },
  {
   "cell_type": "markdown",
   "metadata": {
    "slideshow": {
     "slide_type": "slide"
    }
   },
   "source": [
    "<H3 style=\"color:#961296;\">XML to JSON conversion</H3> \n",
    "<div style=\"color:#962412;\">\n",
    "<h5>Description</h5>\n",
    "This procedure converts XML files provided in 'XML_files' directory to desired JSON format and saves each of the dataset in text file in 'Text_files' directory.\n",
    "<h5>Remarks</h5>\n",
    "Currently, the files are saved with LF newline with a white space at the end of most lines, whereas language files the changes will be merged to have CRLF new lines.\n",
    "</div>"
   ]
  },
  {
   "cell_type": "code",
   "execution_count": 4,
   "metadata": {
    "collapsed": false
   },
   "outputs": [],
   "source": [
    "import json\n",
    "from xml.dom import minidom\n",
    "from pprint import pprint\n",
    "from collections import OrderedDict\n",
    "from xml.parsers import expat\n",
    "import codecs\n",
    "\n",
    "# Lanuage codes of the files to be updated\n",
    "langCodes = ['de', 'it', 'fr', 'nl', 'nb', 'se', 'da', 'ru']\n",
    "\n",
    "# test file with a few sample items\n",
    "# langCodes = ['test']\n",
    "\n",
    "# Iterate through selected languages\n",
    "for lc in langCodes:\n",
    "    \n",
    "    # Parse HML file with current language minidom format\n",
    "    xmldoc = minidom.parse('XML_files/translation_'+ lc +'.xml')\n",
    "    \n",
    "    # Extract all items by their name 'unit' \n",
    "    itemlist = xmldoc.getElementsByTagName('unit')\n",
    "\n",
    "    d = {}\n",
    "    # iterate through each item\n",
    "    for item in reversed(itemlist):\n",
    "        \n",
    "        # get item's id which a set of nested keys f.ex. \"HOME.DESIGN_EDITOR.BACKGROUND\"\n",
    "        unitId = item.attributes['id'].value\n",
    "        # split id by the '.' to individual keys\n",
    "        us = unitId.split('.')\n",
    "        # get item's value\n",
    "        sourceVal = item.getElementsByTagName('source').item(0).firstChild.nodeValue\n",
    "        \n",
    "        # Build nested dictionary\n",
    "        if(len(us) > 1):\n",
    "            d[us[0]] = d.get(us[0], {})\n",
    "            d[us[0]][us[1]] = d[us[0]].get(us[1], {})\n",
    "        if(len(us) == 2):\n",
    "            d[us[0]][us[1]] = sourceVal\n",
    "        if(len(us) > 2):\n",
    "            d[us[0]][us[1]][us[2]] = d[us[0]][us[1]].get(us[2], {})\n",
    "        if(len(us) == 3):\n",
    "            d[us[0]][us[1]][us[2]] = sourceVal\n",
    "        if(len(us) > 3):    \n",
    "            d[us[0]][us[1]][us[2]][us[3]] = d[us[0]][us[1]][us[2]].get(us[3], {})\n",
    "        if(len(us) == 4):\n",
    "            d[us[0]][us[1]][us[2]][us[3]] = sourceVal\n",
    "        if(len(us) > 5):\n",
    "            d[us[0]][us[1]][us[2]][us[3]][us[4]] = d[us[0]][us[1]][us[2]][us[3]].get(us[4], {})\n",
    "        if(len(us) == 5):\n",
    "            d[us[0]][us[1]][us[2]][us[3]][us[4]] = sourceVal\n",
    "\n",
    "    # save each language data to file encoded in ISO-8859-1 unicode\n",
    "    with codecs.open('Text_files/'+ lc +'.txt', 'w', encoding=\"ISO-8859-1\") as f:\n",
    "        # sort each nested dictionary alphabetically and apply a new line with 2 space indent\n",
    "        json.dump(d, f, indent=2, sort_keys=True, ensure_ascii = False)\n"
   ]
  }
 ],
 "metadata": {
  "anaconda-cloud": {},
  "kernelspec": {
   "display_name": "Python 2",
   "language": "python",
   "name": "python2"
  },
  "language_info": {
   "codemirror_mode": {
    "name": "ipython",
    "version": 2
   },
   "file_extension": ".py",
   "mimetype": "text/x-python",
   "name": "python",
   "nbconvert_exporter": "python",
   "pygments_lexer": "ipython2",
   "version": "2.7.13"
  }
 },
 "nbformat": 4,
 "nbformat_minor": 1
}
