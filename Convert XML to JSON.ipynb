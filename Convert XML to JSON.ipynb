{
 "cells": [
  {
   "cell_type": "code",
   "execution_count": 26,
   "metadata": {
    "collapsed": false
   },
   "outputs": [
    {
     "ename": "TypeError",
     "evalue": "parse() got an unexpected keyword argument 'encoding'",
     "output_type": "error",
     "traceback": [
      "\u001b[0;31m---------------------------------------------------------------------------\u001b[0m",
      "\u001b[0;31mTypeError\u001b[0m                                 Traceback (most recent call last)",
      "\u001b[0;32m<ipython-input-26-7e869c1aaaa7>\u001b[0m in \u001b[0;36m<module>\u001b[0;34m()\u001b[0m\n\u001b[1;32m     10\u001b[0m \u001b[1;32mfor\u001b[0m \u001b[0mlc\u001b[0m \u001b[1;32min\u001b[0m \u001b[0mlangCodes\u001b[0m\u001b[1;33m:\u001b[0m\u001b[1;33m\u001b[0m\u001b[0m\n\u001b[1;32m     11\u001b[0m \u001b[1;33m\u001b[0m\u001b[0m\n\u001b[0;32m---> 12\u001b[0;31m     \u001b[0mxmldoc\u001b[0m \u001b[1;33m=\u001b[0m \u001b[0mminidom\u001b[0m\u001b[1;33m.\u001b[0m\u001b[0mparse\u001b[0m\u001b[1;33m(\u001b[0m\u001b[1;34m'XML_Files/translation_'\u001b[0m\u001b[1;33m+\u001b[0m \u001b[0mlc\u001b[0m \u001b[1;33m+\u001b[0m\u001b[1;34m'.xml'\u001b[0m\u001b[1;33m,\u001b[0m \u001b[0mencoding\u001b[0m\u001b[1;33m=\u001b[0m\u001b[1;34m\"utf-8\"\u001b[0m\u001b[1;33m)\u001b[0m\u001b[1;33m\u001b[0m\u001b[0m\n\u001b[0m\u001b[1;32m     13\u001b[0m     \u001b[0mitemlist\u001b[0m \u001b[1;33m=\u001b[0m \u001b[0mxmldoc\u001b[0m\u001b[1;33m.\u001b[0m\u001b[0mgetElementsByTagName\u001b[0m\u001b[1;33m(\u001b[0m\u001b[1;34m'unit'\u001b[0m\u001b[1;33m)\u001b[0m\u001b[1;33m\u001b[0m\u001b[0m\n\u001b[1;32m     14\u001b[0m \u001b[1;33m\u001b[0m\u001b[0m\n",
      "\u001b[0;31mTypeError\u001b[0m: parse() got an unexpected keyword argument 'encoding'"
     ]
    }
   ],
   "source": [
    "import json\n",
    "from xml.dom import minidom\n",
    "from pprint import pprint\n",
    "from collections import OrderedDict\n",
    "import codecs\n",
    "\n",
    "langCodes = ['de', 'it', 'fr', 'nl', 'nb', 'se', 'da', 'ru']\n",
    "\n",
    "for lc in langCodes:\n",
    "    \n",
    "    xmldoc = minidom.parse('XML_Files/translation_'+ lc +'.xml', encoding=\"utf-8\")\n",
    "    itemlist = xmldoc.getElementsByTagName('unit')\n",
    "\n",
    "    d = {}\n",
    "    for item in reversed(itemlist):\n",
    "        unitId = item.attributes['id'].value\n",
    "        us = unitId.split('.')\n",
    "        sourceVal = item.getElementsByTagName('source').item(0).firstChild.nodeValue\n",
    "\n",
    "        if(len(us) > 1):\n",
    "            d[us[0]] = d.get(us[0], {})\n",
    "            d[us[0]][us[1]] = d[us[0]].get(us[1], {})\n",
    "        if(len(us) == 2):\n",
    "            d[us[0]][us[1]] = sourceVal\n",
    "        if(len(us) > 2):\n",
    "            d[us[0]][us[1]][us[2]] = d[us[0]][us[1]].get(us[2], {})\n",
    "        if(len(us) == 3):\n",
    "            d[us[0]][us[1]][us[2]] = sourceVal\n",
    "        if(len(us) > 3):    \n",
    "            d[us[0]][us[1]][us[2]][us[3]] = d[us[0]][us[1]][us[2]].get(us[3], {})\n",
    "        if(len(us) == 4):\n",
    "            d[us[0]][us[1]][us[2]][us[3]] = sourceVal\n",
    "        if(len(us) > 5):\n",
    "            d[us[0]][us[1]][us[2]][us[3]][us[4]] = d[us[0]][us[1]][us[2]][us[3]].get(us[4], {})\n",
    "        if(len(us) == 5):\n",
    "            d[us[0]][us[1]][us[2]][us[3]][us[4]] = sourceVal\n",
    "\n",
    "    # save to file:\n",
    "    with codecs.open('translated/tree_translated_'+ lc +'.txt', 'w', encoding=\"utf-8\") as f:\n",
    "        json.dump(d, f, indent=2, sort_keys=True, ensure_ascii = False)\n"
   ]
  }
 ],
 "metadata": {
  "anaconda-cloud": {},
  "kernelspec": {
   "display_name": "Python [conda root]",
   "language": "python",
   "name": "conda-root-py"
  },
  "language_info": {
   "codemirror_mode": {
    "name": "ipython",
    "version": 2
   },
   "file_extension": ".py",
   "mimetype": "text/x-python",
   "name": "python",
   "nbconvert_exporter": "python",
   "pygments_lexer": "ipython2",
   "version": "2.7.12"
  }
 },
 "nbformat": 4,
 "nbformat_minor": 1
}
